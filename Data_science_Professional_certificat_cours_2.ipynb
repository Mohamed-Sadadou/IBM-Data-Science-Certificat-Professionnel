{
  "nbformat": 4,
  "nbformat_minor": 0,
  "metadata": {
    "colab": {
      "provenance": []
    },
    "kernelspec": {
      "name": "python3",
      "display_name": "Python 3"
    },
    "language_info": {
      "name": "python"
    }
  },
  "cells": [
    {
      "cell_type": "markdown",
      "source": [
        "# My Data Science Notebook"
      ],
      "metadata": {
        "id": "sd0GWULD1IyR"
      }
    },
    {
      "cell_type": "markdown",
      "source": [],
      "metadata": {
        "id": "AzHeKt0a2pzv"
      }
    },
    {
      "cell_type": "markdown",
      "source": [
        "## Introduction\n",
        "\n",
        "In this notebook, we will explore various data science languages, libraries, and tools. Additionally, we will practice writing simple code cells to perform arithmetic operations and unit conversions.\n",
        "\n"
      ],
      "metadata": {
        "id": "Hf62dRU11ON7"
      }
    },
    {
      "cell_type": "markdown",
      "source": [
        "## Data Science Languages\n",
        "\n",
        "1. Python\n",
        "2. R\n",
        "3. SQL\n",
        "4. Julia\n",
        "5. SAS\n",
        "\n"
      ],
      "metadata": {
        "id": "zAPhtTBC1TT7"
      }
    },
    {
      "cell_type": "markdown",
      "source": [
        "## Data Science Libraries\n",
        "\n",
        "1. Pandas (Python)\n",
        "2. NumPy (Python)\n",
        "3. SciPy (Python)\n",
        "4. ggplot2 (R)\n",
        "5. dplyr (R)\n",
        "\n"
      ],
      "metadata": {
        "id": "t3k54R2F1X0V"
      }
    },
    {
      "cell_type": "markdown",
      "source": [
        "## Data Science Tools\n",
        "\n",
        "| Tool        | Description                                            |\n",
        "|-------------|--------------------------------------------------------|\n",
        "| Jupyter    | An open-source web application that allows you to create and share documents that contain live code, equations, visualizations and narrative text. |\n",
        "| RStudio     | An integrated development environment for R, a programming language for statistical computing and graphics. |\n",
        "| Anaconda    | A distribution of the Python and R programming languages for scientific computing, that aims to simplify package management and deployment. |\n",
        "| Tableau     | A data visualization tool that is used for converting raw data into an understandable format; graphs, visuals. |\n",
        "| PowerBI     | A business analytics tool that delivers insights to enable fast, informed decisions. |\n"
      ],
      "metadata": {
        "id": "3eMxnmPd1aj7"
      }
    },
    {
      "cell_type": "markdown",
      "source": [
        "## Arithmetic Expression Examples\n",
        "\n",
        "In the following sections, we will explore some basic arithmetic expressions such as addition and multiplication.\n"
      ],
      "metadata": {
        "id": "dyAYjfxY1IeC"
      }
    },
    {
      "cell_type": "code",
      "source": [
        "# Code Cell to Multiply and Add Numbers\n",
        "number1 = 5\n",
        "number2 = 3\n",
        "\n",
        "# Multiplication\n",
        "product = number1 * number2\n",
        "\n",
        "# Addition\n",
        "sum_result = number1 + number2\n",
        "\n",
        "product, sum_result\n"
      ],
      "metadata": {
        "colab": {
          "base_uri": "https://localhost:8080/"
        },
        "id": "QmjOTYqH1qLu",
        "outputId": "d22f2b68-107d-4230-9144-4c3f97dbc7da"
      },
      "execution_count": 1,
      "outputs": [
        {
          "output_type": "execute_result",
          "data": {
            "text/plain": [
              "(15, 8)"
            ]
          },
          "metadata": {},
          "execution_count": 1
        }
      ]
    },
    {
      "cell_type": "code",
      "source": [
        "# Code Cell to Convert Minutes to Hours\n",
        "minutes = 120\n",
        "hours = minutes / 60\n",
        "hours\n"
      ],
      "metadata": {
        "colab": {
          "base_uri": "https://localhost:8080/"
        },
        "id": "sBMVFrQ31s43",
        "outputId": "947d9652-49d3-4d51-da4f-463bb162cbb2"
      },
      "execution_count": 2,
      "outputs": [
        {
          "output_type": "execute_result",
          "data": {
            "text/plain": [
              "2.0"
            ]
          },
          "metadata": {},
          "execution_count": 2
        }
      ]
    },
    {
      "cell_type": "markdown",
      "source": [
        "## Objectives\n",
        "\n",
        "1. Understand various data science languages.\n",
        "2. Learn about popular data science libraries.\n",
        "3. Familiarize with common data science tools.\n",
        "4. Practice simple arithmetic operations in code cells.\n",
        "5. Learn to convert units using code cells.\n"
      ],
      "metadata": {
        "id": "AVlXH8Uh1ulj"
      }
    },
    {
      "cell_type": "markdown",
      "source": [
        "## Author\n",
        "\n",
        "SADADOU Mohamed\n"
      ],
      "metadata": {
        "id": "i-ciJSi41wS9"
      }
    }
  ]
}