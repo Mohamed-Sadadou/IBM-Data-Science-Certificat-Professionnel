{
  "nbformat": 4,
  "nbformat_minor": 0,
  "metadata": {
    "colab": {
      "provenance": []
    },
    "kernelspec": {
      "name": "python3",
      "display_name": "Python 3"
    },
    "language_info": {
      "name": "python"
    }
  },
  "cells": [
    {
      "cell_type": "markdown",
      "source": [
        "# Data Science Tools and Ecosystem\n"
      ],
      "metadata": {
        "id": "sd0GWULD1IyR"
      }
    },
    {
      "cell_type": "markdown",
      "source": [
        "## Introduction\n",
        "\n",
        "In this notebook, Data Science Tools and Ecosystem are summarized.\n",
        "\n",
        "\n"
      ],
      "metadata": {
        "id": "Hf62dRU11ON7"
      }
    },
    {
      "cell_type": "markdown",
      "source": [
        "**Objectives:**\n",
        "\n",
        "- List popular languages for Data Science\n",
        "- Identify commonly used libraries in Data Science\n",
        "- Recognize popular Data Science tools\n",
        "- Evaluate simple arithmetic expressions in Python\n",
        "- Convert units using Python (e.g., minutes to hours)\n"
      ],
      "metadata": {
        "id": "WshcPEgu-Rgo"
      }
    },
    {
      "cell_type": "markdown",
      "source": [
        "Some of the popular languages that Data Scientists use are:\n",
        "\n",
        "1. Python\n",
        "2. R\n",
        "3. SQL\n"
      ],
      "metadata": {
        "id": "pPCtdK_57djk"
      }
    },
    {
      "cell_type": "markdown",
      "source": [
        "Some of the commonly used libraries used by Data Scientists include:\n",
        "\n",
        "1. Pandas (Python)\n",
        "2. NumPy (Python)\n",
        "3. dplyr (R)\n"
      ],
      "metadata": {
        "id": "UZFnz7fo7id2"
      }
    },
    {
      "cell_type": "markdown",
      "source": [
        "Data Science Tools\n",
        "\n",
        "- Jupyter Notebook\n",
        "- RStudio\n",
        "- Anaconda\n"
      ],
      "metadata": {
        "id": "NMO_3a6U7mhk"
      }
    },
    {
      "cell_type": "markdown",
      "source": [
        "### Below are a few examples of evaluating arithmetic expressions in Python.\n"
      ],
      "metadata": {
        "id": "RfncvkqV7p0D"
      }
    },
    {
      "cell_type": "code",
      "source": [
        "# This a simple arithmetic expression to multiply then add integers\n",
        "result = (3 * 4) + 5\n",
        "result\n"
      ],
      "metadata": {
        "colab": {
          "base_uri": "https://localhost:8080/"
        },
        "id": "lW7ougqa7uG-",
        "outputId": "03e03779-4872-492d-bfe0-ca9cb7e6e05e"
      },
      "execution_count": 3,
      "outputs": [
        {
          "output_type": "execute_result",
          "data": {
            "text/plain": [
              "17"
            ]
          },
          "metadata": {},
          "execution_count": 3
        }
      ]
    },
    {
      "cell_type": "code",
      "source": [
        "# This will convert 200 minutes to hours by dividing by 60\n",
        "hours = 200 / 60\n",
        "hours\n"
      ],
      "metadata": {
        "colab": {
          "base_uri": "https://localhost:8080/"
        },
        "id": "dco1Rh287uoY",
        "outputId": "aff27d8a-2627-4a16-fd43-aea6531b574d"
      },
      "execution_count": 4,
      "outputs": [
        {
          "output_type": "execute_result",
          "data": {
            "text/plain": [
              "3.3333333333333335"
            ]
          },
          "metadata": {},
          "execution_count": 4
        }
      ]
    },
    {
      "cell_type": "markdown",
      "source": [
        "## Author\n",
        "\n",
        "SADADOU Mohamed\n"
      ],
      "metadata": {
        "id": "R3B8bAvE76wq"
      }
    }
  ]
}